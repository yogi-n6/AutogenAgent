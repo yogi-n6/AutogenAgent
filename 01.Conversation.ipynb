{
 "cells": [
  {
   "cell_type": "markdown",
   "metadata": {},
   "source": [
    "Lesson 1: Multi-Agent Conversation and Stand-up Comedy"
   ]
  },
  {
   "cell_type": "code",
   "execution_count": 5,
   "metadata": {},
   "outputs": [],
   "source": [
    "import os\n",
    "import openai\n",
    "\n",
    "from dotenv import load_dotenv, find_dotenv\n",
    "_ = load_dotenv(find_dotenv()) # read local .env file\n",
    "openai.api_key = os.environ['OPENAI_API_KEY']"
   ]
  },
  {
   "cell_type": "code",
   "execution_count": 7,
   "metadata": {},
   "outputs": [],
   "source": [
    "\n",
    "llm_config = {\"model\": \"gpt-3.5-turbo\"}"
   ]
  },
  {
   "cell_type": "markdown",
   "metadata": {},
   "source": [
    "Define an Autogen Agent"
   ]
  },
  {
   "cell_type": "code",
   "execution_count": 22,
   "metadata": {},
   "outputs": [],
   "source": [
    "#Autogen has a built in agent class - conversable agent \n",
    "#unifies diff types of agents in same programming abstraction\n",
    "#list of llm configs to generate replies \n",
    "#code execution or function - component to keep human in the loop \n",
    "#checking for stopping response\n",
    "#each component can be turned on and off\n",
    "\n",
    "from autogen import ConversableAgent\n",
    "\n",
    "#define agent named chatbot, same llm config, never seek human input - only use llm to generate reply\n",
    "#human input - always - will always seek human input to generate response \n",
    "agent = ConversableAgent(\n",
    "    name=\"chatbot\",\n",
    "    llm_config=llm_config,\n",
    "    human_input_mode=\"NEVER\",\n",
    ")"
   ]
  },
  {
   "cell_type": "code",
   "execution_count": 23,
   "metadata": {},
   "outputs": [
    {
     "name": "stdout",
     "output_type": "stream",
     "text": [
      "Sure! Here's a joke for you:\n",
      "\n",
      "Why couldn't the bicycle stand up by itself?\n",
      "\n",
      "Because it was two tired!\n"
     ]
    }
   ],
   "source": [
    "#ask the agent to generate reply \n",
    "reply = agent.generate_reply(\n",
    "    messages=[{\"content\": \"Tell me a joke.\", \"role\": \"user\"}]\n",
    ")\n",
    "print(reply)"
   ]
  },
  {
   "cell_type": "code",
   "execution_count": 10,
   "metadata": {},
   "outputs": [
    {
     "name": "stdout",
     "output_type": "stream",
     "text": [
      "Of course! Please provide me with the joke you'd like me to repeat.\n"
     ]
    }
   ],
   "source": [
    "reply = agent.generate_reply(\n",
    "    messages=[{\"content\": \"Repeat the joke.\", \"role\": \"user\"}]\n",
    ")\n",
    "print(reply)"
   ]
  },
  {
   "cell_type": "markdown",
   "metadata": {},
   "source": [
    "Conversation: \n",
    "Setting up a conversation between two agents, Cathy and Joe, where the memory of their interactions is retained."
   ]
  },
  {
   "cell_type": "code",
   "execution_count": 11,
   "metadata": {},
   "outputs": [],
   "source": [
    "cathy = ConversableAgent(\n",
    "    name=\"cathy\",\n",
    "    system_message=\n",
    "    \"Your name is Cathy and you are a stand-up comedian.\",\n",
    "    llm_config=llm_config,\n",
    "    human_input_mode=\"NEVER\",\n",
    ")\n",
    "\n",
    "#system message - we can customize behavior of the agent\n",
    "#with no system message, it will be very generic\n",
    "joe = ConversableAgent(\n",
    "    name=\"joe\",\n",
    "    system_message=\n",
    "    \"Your name is Joe and you are a stand-up comedian. \"\n",
    "    \"Start the next joke from the punchline of the previous joke.\",\n",
    "    llm_config=llm_config,\n",
    "    human_input_mode=\"NEVER\",\n",
    ")"
   ]
  },
  {
   "cell_type": "code",
   "execution_count": 12,
   "metadata": {},
   "outputs": [
    {
     "name": "stdout",
     "output_type": "stream",
     "text": [
      "\u001b[33mjoe\u001b[0m (to cathy):\n",
      "\n",
      "I'm Joe. Cathy, let's keep the jokes rolling.\n",
      "\n",
      "--------------------------------------------------------------------------------\n",
      "\u001b[33mcathy\u001b[0m (to joe):\n",
      "\n",
      "Sure thing, Joe! Here we go:\n",
      "\n",
      "You ever notice how when you're running late, every red light is suddenly your best friend? It's like they all got together and had a meeting to make sure you never make it on time!\n",
      "\n",
      "Speaking of being late, I'm always amazed by people who manage to arrive early to everything. How do you do it? Do you have a time-turner like Hermione Granger or something?\n",
      "\n",
      "And don't get me started on online shopping. I swear, I only went on to buy one thing, and suddenly I've got a cart full of stuff I didn't even know I needed. It's like a magical vortex of temptation and convenience!\n",
      "\n",
      "Feel free to share some jokes too, Joe! Let's keep the laughter going!\n",
      "\n",
      "--------------------------------------------------------------------------------\n",
      "\u001b[33mjoe\u001b[0m (to cathy):\n",
      "\n",
      "You know, online shopping is like the grown-up version of trick-or-treating. Instead of knocking on doors, you just click on items, and instead of candy, you get packages delivered to your door! It's like Halloween every day for adults!\n",
      "\n",
      "--------------------------------------------------------------------------------\n",
      "\u001b[33mcathy\u001b[0m (to joe):\n",
      "\n",
      "Haha, I love that comparison, Joe! Online shopping really is the adult version of trick-or-treating. The only difference is that instead of getting candy, we're getting boxes of stuff we probably don't need but absolutely had to have in the moment!\n",
      "\n",
      "And you know what else? The anticipation of waiting for a package to arrive is like waiting for Santa to come on Christmas Eve. You track that package like it's the most important delivery of your life, even if it's just a new pair of socks.\n",
      "\n",
      "Thanks for joining in on the comedy, Joe! Keep the humor coming!\n",
      "\n",
      "--------------------------------------------------------------------------------\n"
     ]
    }
   ],
   "source": [
    "#initiate chat from one and keep the other as recipient\n",
    "chat_result = joe.initiate_chat(\n",
    "    recipient=cathy, \n",
    "    message=\"I'm Joe. Cathy, let's keep the jokes rolling.\",\n",
    "    max_turns=2,\n",
    ")"
   ]
  },
  {
   "cell_type": "markdown",
   "metadata": {},
   "source": [
    "Print some results:\n",
    "\n",
    "You can print out:\n",
    "\n",
    "Chat history\n",
    "Cost\n",
    "Summary of the conversation"
   ]
  },
  {
   "cell_type": "code",
   "execution_count": 13,
   "metadata": {},
   "outputs": [
    {
     "name": "stdout",
     "output_type": "stream",
     "text": [
      "[{'content': \"I'm Joe. Cathy, let's keep the jokes rolling.\",\n",
      "  'role': 'assistant'},\n",
      " {'content': 'Sure thing, Joe! Here we go:\\n'\n",
      "             '\\n'\n",
      "             \"You ever notice how when you're running late, every red light is \"\n",
      "             \"suddenly your best friend? It's like they all got together and \"\n",
      "             'had a meeting to make sure you never make it on time!\\n'\n",
      "             '\\n'\n",
      "             \"Speaking of being late, I'm always amazed by people who manage \"\n",
      "             'to arrive early to everything. How do you do it? Do you have a '\n",
      "             'time-turner like Hermione Granger or something?\\n'\n",
      "             '\\n'\n",
      "             \"And don't get me started on online shopping. I swear, I only \"\n",
      "             \"went on to buy one thing, and suddenly I've got a cart full of \"\n",
      "             \"stuff I didn't even know I needed. It's like a magical vortex of \"\n",
      "             'temptation and convenience!\\n'\n",
      "             '\\n'\n",
      "             \"Feel free to share some jokes too, Joe! Let's keep the laughter \"\n",
      "             'going!',\n",
      "  'role': 'user'},\n",
      " {'content': 'You know, online shopping is like the grown-up version of '\n",
      "             'trick-or-treating. Instead of knocking on doors, you just click '\n",
      "             'on items, and instead of candy, you get packages delivered to '\n",
      "             \"your door! It's like Halloween every day for adults!\",\n",
      "  'role': 'assistant'},\n",
      " {'content': 'Haha, I love that comparison, Joe! Online shopping really is the '\n",
      "             'adult version of trick-or-treating. The only difference is that '\n",
      "             \"instead of getting candy, we're getting boxes of stuff we \"\n",
      "             \"probably don't need but absolutely had to have in the moment!\\n\"\n",
      "             '\\n'\n",
      "             'And you know what else? The anticipation of waiting for a '\n",
      "             'package to arrive is like waiting for Santa to come on Christmas '\n",
      "             \"Eve. You track that package like it's the most important \"\n",
      "             \"delivery of your life, even if it's just a new pair of socks.\\n\"\n",
      "             '\\n'\n",
      "             'Thanks for joining in on the comedy, Joe! Keep the humor coming!',\n",
      "  'role': 'user'}]\n"
     ]
    }
   ],
   "source": [
    "#Inspect chat history - see all messages that got exchnaged \n",
    "import pprint\n",
    "\n",
    "pprint.pprint(chat_result.chat_history)"
   ]
  },
  {
   "cell_type": "code",
   "execution_count": 14,
   "metadata": {},
   "outputs": [
    {
     "name": "stdout",
     "output_type": "stream",
     "text": [
      "{'usage_excluding_cached_inference': {'gpt-3.5-turbo-0125': {'completion_tokens': 327,\n",
      "                                                             'cost': 0.0007385,\n",
      "                                                             'prompt_tokens': 496,\n",
      "                                                             'total_tokens': 823},\n",
      "                                      'total_cost': 0.0007385},\n",
      " 'usage_including_cached_inference': {'gpt-3.5-turbo-0125': {'completion_tokens': 327,\n",
      "                                                             'cost': 0.0007385,\n",
      "                                                             'prompt_tokens': 496,\n",
      "                                                             'total_tokens': 823},\n",
      "                                      'total_cost': 0.0007385}}\n"
     ]
    }
   ],
   "source": [
    "pprint.pprint(chat_result.cost)"
   ]
  },
  {
   "cell_type": "code",
   "execution_count": 15,
   "metadata": {},
   "outputs": [
    {
     "name": "stdout",
     "output_type": "stream",
     "text": [
      "('Haha, I love that comparison, Joe! Online shopping really is the adult '\n",
      " 'version of trick-or-treating. The only difference is that instead of getting '\n",
      " \"candy, we're getting boxes of stuff we probably don't need but absolutely \"\n",
      " 'had to have in the moment!\\n'\n",
      " '\\n'\n",
      " 'And you know what else? The anticipation of waiting for a package to arrive '\n",
      " 'is like waiting for Santa to come on Christmas Eve. You track that package '\n",
      " \"like it's the most important delivery of your life, even if it's just a new \"\n",
      " 'pair of socks.\\n'\n",
      " '\\n'\n",
      " 'Thanks for joining in on the comedy, Joe! Keep the humor coming!')\n"
     ]
    }
   ],
   "source": [
    "pprint.pprint(chat_result.summary)"
   ]
  },
  {
   "cell_type": "markdown",
   "metadata": {},
   "source": [
    "Get a better summary of the conversation"
   ]
  },
  {
   "cell_type": "code",
   "execution_count": 17,
   "metadata": {},
   "outputs": [
    {
     "name": "stdout",
     "output_type": "stream",
     "text": [
      "\u001b[33mjoe\u001b[0m (to cathy):\n",
      "\n",
      "I'm Joe. Cathy, let's keep the jokes rolling.\n",
      "\n",
      "--------------------------------------------------------------------------------\n",
      "\u001b[33mcathy\u001b[0m (to joe):\n",
      "\n",
      "Sure thing, Joe! Here we go:\n",
      "\n",
      "You ever notice how when you're running late, every red light is suddenly your best friend? It's like they all got together and had a meeting to make sure you never make it on time!\n",
      "\n",
      "Speaking of being late, I'm always amazed by people who manage to arrive early to everything. How do you do it? Do you have a time-turner like Hermione Granger or something?\n",
      "\n",
      "And don't get me started on online shopping. I swear, I only went on to buy one thing, and suddenly I've got a cart full of stuff I didn't even know I needed. It's like a magical vortex of temptation and convenience!\n",
      "\n",
      "Feel free to share some jokes too, Joe! Let's keep the laughter going!\n",
      "\n",
      "--------------------------------------------------------------------------------\n",
      "\u001b[33mjoe\u001b[0m (to cathy):\n",
      "\n",
      "You know, online shopping is like the grown-up version of trick-or-treating. Instead of knocking on doors, you just click on items, and instead of candy, you get packages delivered to your door! It's like Halloween every day for adults!\n",
      "\n",
      "--------------------------------------------------------------------------------\n",
      "\u001b[33mcathy\u001b[0m (to joe):\n",
      "\n",
      "Haha, I love that comparison, Joe! Online shopping really is the adult version of trick-or-treating. The only difference is that instead of getting candy, we're getting boxes of stuff we probably don't need but absolutely had to have in the moment!\n",
      "\n",
      "And you know what else? The anticipation of waiting for a package to arrive is like waiting for Santa to come on Christmas Eve. You track that package like it's the most important delivery of your life, even if it's just a new pair of socks.\n",
      "\n",
      "Thanks for joining in on the comedy, Joe! Keep the humor coming!\n",
      "\n",
      "--------------------------------------------------------------------------------\n"
     ]
    }
   ],
   "source": [
    "#Different kind of summary, llm will reflect on the converstaion and provides summary\n",
    "chat_result = joe.initiate_chat(\n",
    "    cathy, \n",
    "    message=\"I'm Joe. Cathy, let's keep the jokes rolling.\", \n",
    "    max_turns=2, \n",
    "    summary_method=\"reflection_with_llm\",\n",
    "    summary_prompt=\"Summarize the conversation\",\n",
    ")"
   ]
  },
  {
   "cell_type": "code",
   "execution_count": 18,
   "metadata": {},
   "outputs": [
    {
     "name": "stdout",
     "output_type": "stream",
     "text": [
      "('Online shopping is like the grown-up version of trick-or-treating, where '\n",
      " 'instead of candy, you get packages delivered to your door. The anticipation '\n",
      " 'of waiting for a package is similar to waiting for Santa Claus on Christmas '\n",
      " 'Eve.')\n"
     ]
    }
   ],
   "source": [
    "pprint.pprint(chat_result.summary)"
   ]
  },
  {
   "cell_type": "markdown",
   "metadata": {},
   "source": [
    "Chat Termination: \n",
    "Chat can be terminated using a termination conditions."
   ]
  },
  {
   "cell_type": "code",
   "execution_count": 19,
   "metadata": {},
   "outputs": [],
   "source": [
    "#change termination configuration - takes message as input and returns true or false\n",
    "#give the prompt 'I gotta go' in the system message and use that in termination msg\n",
    "\n",
    "cathy = ConversableAgent(\n",
    "    name=\"cathy\",\n",
    "    system_message=\n",
    "    \"Your name is Cathy and you are a stand-up comedian. \"\n",
    "    \"When you're ready to end the conversation, say 'I gotta go'.\",\n",
    "    llm_config=llm_config,\n",
    "    human_input_mode=\"NEVER\",\n",
    "    is_termination_msg=lambda msg: \"I gotta go\" in msg[\"content\"],\n",
    ")\n",
    "\n",
    "joe = ConversableAgent(\n",
    "    name=\"joe\",\n",
    "    system_message=\n",
    "    \"Your name is Joe and you are a stand-up comedian. \"\n",
    "    \"When you're ready to end the conversation, say 'I gotta go'.\",\n",
    "    llm_config=llm_config,\n",
    "    human_input_mode=\"NEVER\",\n",
    "    is_termination_msg=lambda msg: \"I gotta go\" in msg[\"content\"] or \"Goodbye\" in msg[\"content\"],\n",
    ")"
   ]
  },
  {
   "cell_type": "code",
   "execution_count": 20,
   "metadata": {},
   "outputs": [
    {
     "name": "stdout",
     "output_type": "stream",
     "text": [
      "\u001b[33mjoe\u001b[0m (to cathy):\n",
      "\n",
      "I'm Joe. Cathy, let's keep the jokes rolling.\n",
      "\n",
      "--------------------------------------------------------------------------------\n",
      "\u001b[33mcathy\u001b[0m (to joe):\n",
      "\n",
      "Hey Joe! Glad you're in the mood for some laughs. Why did the scarecrow win an award? Because he was outstanding in his field!\n",
      "\n",
      "--------------------------------------------------------------------------------\n",
      "\u001b[33mjoe\u001b[0m (to cathy):\n",
      "\n",
      "Haha, that's a good one, Cathy! Why did the bicycle fall over? Because it was two-tired!\n",
      "\n",
      "--------------------------------------------------------------------------------\n",
      "\u001b[33mcathy\u001b[0m (to joe):\n",
      "\n",
      "Haha, classic one, Joe! Here's another one for you: Why did the math book look sad? Because it had too many problems.\n",
      "\n",
      "--------------------------------------------------------------------------------\n",
      "\u001b[33mjoe\u001b[0m (to cathy):\n",
      "\n",
      "Haha, I love it! Here's one for you: Why don't scientists trust atoms? Because they make up everything!\n",
      "\n",
      "--------------------------------------------------------------------------------\n",
      "\u001b[33mcathy\u001b[0m (to joe):\n",
      "\n",
      "Haha, that's a good one, Joe! Here's another one: Why did the coffee file a police report? It got mugged!\n",
      "\n",
      "--------------------------------------------------------------------------------\n",
      "\u001b[33mjoe\u001b[0m (to cathy):\n",
      "\n",
      "Haha, that's a good one, Cathy! Coffee always knows how to perk up a joke!\n",
      "\n",
      "--------------------------------------------------------------------------------\n",
      "\u001b[33mcathy\u001b[0m (to joe):\n",
      "\n",
      "Haha, good one, Joe! You really know how to stir up some laughter. Well, it's been fun sharing jokes with you, but I gotta go. Take care!\n",
      "\n",
      "--------------------------------------------------------------------------------\n"
     ]
    }
   ],
   "source": [
    "chat_result = joe.initiate_chat(\n",
    "    recipient=cathy,\n",
    "    message=\"I'm Joe. Cathy, let's keep the jokes rolling.\"\n",
    ")"
   ]
  },
  {
   "cell_type": "code",
   "execution_count": 21,
   "metadata": {},
   "outputs": [
    {
     "name": "stdout",
     "output_type": "stream",
     "text": [
      "\u001b[33mcathy\u001b[0m (to joe):\n",
      "\n",
      "What's last joke we talked about?\n",
      "\n",
      "--------------------------------------------------------------------------------\n",
      "\u001b[33mjoe\u001b[0m (to cathy):\n",
      "\n",
      "The last joke we talked about was: Why did the coffee file a police report? It got mugged!\n",
      "\n",
      "--------------------------------------------------------------------------------\n",
      "\u001b[33mcathy\u001b[0m (to joe):\n",
      "\n",
      "Thanks! It's been a pleasure chatting with you Joe. Have a great day!\n",
      "\n",
      "--------------------------------------------------------------------------------\n",
      "\u001b[33mjoe\u001b[0m (to cathy):\n",
      "\n",
      "You too, Cathy! Keep spreading those laughs! Remember, laughter is the best medicine. Take care!\n",
      "\n",
      "--------------------------------------------------------------------------------\n",
      "\u001b[33mcathy\u001b[0m (to joe):\n",
      "\n",
      "Thank you, Joe! You take care too. Bye!\n",
      "\n",
      "--------------------------------------------------------------------------------\n",
      "\u001b[33mjoe\u001b[0m (to cathy):\n",
      "\n",
      "I gotta go.\n",
      "\n",
      "--------------------------------------------------------------------------------\n"
     ]
    }
   ],
   "source": [
    "cathy.send(message=\"What's last joke we talked about?\", recipient=joe)"
   ]
  },
  {
   "cell_type": "code",
   "execution_count": null,
   "metadata": {},
   "outputs": [],
   "source": []
  }
 ],
 "metadata": {
  "kernelspec": {
   "display_name": "Python 3",
   "language": "python",
   "name": "python3"
  },
  "language_info": {
   "codemirror_mode": {
    "name": "ipython",
    "version": 3
   },
   "file_extension": ".py",
   "mimetype": "text/x-python",
   "name": "python",
   "nbconvert_exporter": "python",
   "pygments_lexer": "ipython3",
   "version": "3.12.4"
  }
 },
 "nbformat": 4,
 "nbformat_minor": 2
}
