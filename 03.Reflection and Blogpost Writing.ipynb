{
 "cells": [
  {
   "cell_type": "markdown",
   "metadata": {},
   "source": [
    "Lesson 3: Reflection and Blogpost Writing"
   ]
  },
  {
   "cell_type": "code",
   "execution_count": 2,
   "metadata": {},
   "outputs": [],
   "source": [
    "import os\n",
    "import openai\n",
    "\n",
    "from dotenv import load_dotenv, find_dotenv\n",
    "_ = load_dotenv(find_dotenv()) # read local .env file\n",
    "openai.api_key = os.environ['OPENAI_API_KEY']\n",
    "llm_config = {\"model\": \"gpt-3.5-turbo\"}"
   ]
  },
  {
   "cell_type": "code",
   "execution_count": 1,
   "metadata": {},
   "outputs": [],
   "source": [
    "task = '''\n",
    "        Write a concise but engaging blogpost about\n",
    "       DeepLearning.AI. Make sure the blogpost is\n",
    "       within 100 words.\n",
    "       '''"
   ]
  },
  {
   "cell_type": "markdown",
   "metadata": {},
   "source": [
    "Create a writer agent"
   ]
  },
  {
   "cell_type": "code",
   "execution_count": 3,
   "metadata": {},
   "outputs": [],
   "source": [
    "import autogen\n",
    "\n",
    "writer = autogen.AssistantAgent(\n",
    "    name=\"Writer\",\n",
    "    system_message=\"You are a writer. You write engaging and concise \" \n",
    "        \"blogpost (with title) on given topics. You must polish your \"\n",
    "        \"writing based on the feedback you receive and give a refined \"\n",
    "        \"version. Only return your final work without additional comments.\",\n",
    "    llm_config=llm_config,\n",
    ")"
   ]
  },
  {
   "cell_type": "code",
   "execution_count": 4,
   "metadata": {},
   "outputs": [],
   "source": [
    "reply = writer.generate_reply(messages=[{\"content\": task, \"role\": \"user\"}])"
   ]
  },
  {
   "cell_type": "code",
   "execution_count": 5,
   "metadata": {},
   "outputs": [
    {
     "name": "stdout",
     "output_type": "stream",
     "text": [
      "Title: Unleashing the Power of DeepLearning.AI\n",
      "\n",
      "Dive into the world of artificial intelligence with DeepLearning.AI - a leading platform revolutionizing the way we interact with technology. Offering cutting-edge courses and resources, DeepLearning.AI empowers enthusiasts and professionals to master the intricacies of deep learning. From computer vision to natural language processing, the platform equips learners with the tools to explore endless possibilities in AI. Join the thriving community of innovators, upskill in high-demand fields, and unleash your potential with DeepLearning.AI. Embark on a transformative learning journey today!\n"
     ]
    }
   ],
   "source": [
    "print(reply)"
   ]
  },
  {
   "cell_type": "markdown",
   "metadata": {},
   "source": [
    "Adding reflection: Create a critic agent to reflect on the work of the writer agent."
   ]
  },
  {
   "cell_type": "code",
   "execution_count": 6,
   "metadata": {},
   "outputs": [],
   "source": [
    "critic = autogen.AssistantAgent(\n",
    "    name=\"Critic\",\n",
    "    is_termination_msg=lambda x: x.get(\"content\", \"\").find(\"TERMINATE\") >= 0,\n",
    "    llm_config=llm_config,\n",
    "    system_message=\"You are a critic. You review the work of \"\n",
    "                \"the writer and provide constructive \"\n",
    "                \"feedback to help improve the quality of the content.\",\n",
    ")"
   ]
  },
  {
   "cell_type": "code",
   "execution_count": 7,
   "metadata": {},
   "outputs": [
    {
     "name": "stdout",
     "output_type": "stream",
     "text": [
      "\u001b[33mCritic\u001b[0m (to Writer):\n",
      "\n",
      "\n",
      "        Write a concise but engaging blogpost about\n",
      "       DeepLearning.AI. Make sure the blogpost is\n",
      "       within 100 words.\n",
      "       \n",
      "\n",
      "--------------------------------------------------------------------------------\n",
      "\u001b[33mWriter\u001b[0m (to Critic):\n",
      "\n",
      "Title: Unleashing the Power of DeepLearning.AI\n",
      "\n",
      "Dive into the world of artificial intelligence with DeepLearning.AI - a leading platform revolutionizing the way we interact with technology. Offering cutting-edge courses and resources, DeepLearning.AI empowers enthusiasts and professionals to master the intricacies of deep learning. From computer vision to natural language processing, the platform equips learners with the tools to explore endless possibilities in AI. Join the thriving community of innovators, upskill in high-demand fields, and unleash your potential with DeepLearning.AI. Embark on a transformative learning journey today!\n",
      "\n",
      "--------------------------------------------------------------------------------\n",
      "\u001b[33mCritic\u001b[0m (to Writer):\n",
      "\n",
      "This blogpost about DeepLearning.AI effectively captures the essence of the platform in a concise and engaging manner. The title is attention-grabbing and sets the tone for exploring the power of DeepLearning.AI. The content provides a brief overview of the platform's offerings and highlights the benefits of joining the community. To enhance the blogpost, you could consider including specific examples of successful projects or testimonials from learners who have benefited from DeepLearning.AI. Additionally, providing a call-to-action or a link to the platform for interested readers to explore further would make the blogpost more impactful.\n",
      "\n",
      "--------------------------------------------------------------------------------\n",
      "\u001b[33mWriter\u001b[0m (to Critic):\n",
      "\n",
      "Title: Unleashing the Power of DeepLearning.AI\n",
      "\n",
      "Embark on a journey of artificial intelligence mastery with DeepLearning.AI, a platform reshaping technology interaction. Explore top-notch courses in deep learning, from computer vision to natural language processing, and unlock endless AI possibilities. Join a vibrant community of learners, upskill in high-demand fields, and unleash your potential with DeepLearning.AI. Discover success stories and testimonials that showcase the platform's transformative impact. Ready to dive in? Take the first step towards AI proficiency today!\n",
      "\n",
      "--------------------------------------------------------------------------------\n"
     ]
    }
   ],
   "source": [
    "res = critic.initiate_chat(\n",
    "    recipient=writer,\n",
    "    message=task,\n",
    "    max_turns=2,\n",
    "    summary_method=\"last_msg\"\n",
    ")"
   ]
  },
  {
   "cell_type": "markdown",
   "metadata": {},
   "source": [
    "Nested chat"
   ]
  },
  {
   "cell_type": "code",
   "execution_count": 8,
   "metadata": {},
   "outputs": [],
   "source": [
    "SEO_reviewer = autogen.AssistantAgent(\n",
    "    name=\"SEO Reviewer\",\n",
    "    llm_config=llm_config,\n",
    "    system_message=\"You are an SEO reviewer, known for \"\n",
    "        \"your ability to optimize content for search engines, \"\n",
    "        \"ensuring that it ranks well and attracts organic traffic. \" \n",
    "        \"Make sure your suggestion is concise (within 3 bullet points), \"\n",
    "        \"concrete and to the point. \"\n",
    "        \"Begin the review by stating your role.\",\n",
    ")\n"
   ]
  },
  {
   "cell_type": "code",
   "execution_count": 9,
   "metadata": {},
   "outputs": [],
   "source": [
    "legal_reviewer = autogen.AssistantAgent(\n",
    "    name=\"Legal Reviewer\",\n",
    "    llm_config=llm_config,\n",
    "    system_message=\"You are a legal reviewer, known for \"\n",
    "        \"your ability to ensure that content is legally compliant \"\n",
    "        \"and free from any potential legal issues. \"\n",
    "        \"Make sure your suggestion is concise (within 3 bullet points), \"\n",
    "        \"concrete and to the point. \"\n",
    "        \"Begin the review by stating your role.\",\n",
    ")"
   ]
  },
  {
   "cell_type": "code",
   "execution_count": 10,
   "metadata": {},
   "outputs": [],
   "source": [
    "ethics_reviewer = autogen.AssistantAgent(\n",
    "    name=\"Ethics Reviewer\",\n",
    "    llm_config=llm_config,\n",
    "    system_message=\"You are an ethics reviewer, known for \"\n",
    "        \"your ability to ensure that content is ethically sound \"\n",
    "        \"and free from any potential ethical issues. \" \n",
    "        \"Make sure your suggestion is concise (within 3 bullet points), \"\n",
    "        \"concrete and to the point. \"\n",
    "        \"Begin the review by stating your role. \",\n",
    ")"
   ]
  },
  {
   "cell_type": "code",
   "execution_count": 11,
   "metadata": {},
   "outputs": [],
   "source": [
    "meta_reviewer = autogen.AssistantAgent(\n",
    "    name=\"Meta Reviewer\",\n",
    "    llm_config=llm_config,\n",
    "    system_message=\"You are a meta reviewer, you aggragate and review \"\n",
    "    \"the work of other reviewers and give a final suggestion on the content.\",\n",
    ")"
   ]
  },
  {
   "cell_type": "markdown",
   "metadata": {},
   "source": [
    "Orchestrate the nested chats to solve the task"
   ]
  },
  {
   "cell_type": "code",
   "execution_count": 12,
   "metadata": {},
   "outputs": [],
   "source": [
    "#list of four chats with each reviewer as a recipient \n",
    "#later we append this to critic\n",
    "\n",
    "\n",
    "def reflection_message(recipient, messages, sender, config):\n",
    "    return f'''Review the following content. \n",
    "            \\n\\n {recipient.chat_messages_for_summary(sender)[-1]['content']}'''\n",
    "\n",
    "review_chats = [\n",
    "    {\n",
    "     \"recipient\": SEO_reviewer, \n",
    "     \"message\": reflection_message, \n",
    "     \"summary_method\": \"reflection_with_llm\",\n",
    "     \"summary_args\": {\"summary_prompt\" : \n",
    "        \"Return review into as JSON object only:\"\n",
    "        \"{'Reviewer': '', 'Review': ''}. Here Reviewer should be your role\",},\n",
    "     \"max_turns\": 1},\n",
    "    {\n",
    "    \"recipient\": legal_reviewer, \"message\": reflection_message, \n",
    "     \"summary_method\": \"reflection_with_llm\",\n",
    "     \"summary_args\": {\"summary_prompt\" : \n",
    "        \"Return review into as JSON object only:\"\n",
    "        \"{'Reviewer': '', 'Review': ''}.\",},\n",
    "     \"max_turns\": 1},\n",
    "    {\"recipient\": ethics_reviewer, \"message\": reflection_message, \n",
    "     \"summary_method\": \"reflection_with_llm\",\n",
    "     \"summary_args\": {\"summary_prompt\" : \n",
    "        \"Return review into as JSON object only:\"\n",
    "        \"{'reviewer': '', 'review': ''}\",},\n",
    "     \"max_turns\": 1},\n",
    "     {\"recipient\": meta_reviewer, \n",
    "      \"message\": \"Aggregrate feedback from all reviewers and give final suggestions on the writing.\", \n",
    "     \"max_turns\": 1},\n",
    "]\n"
   ]
  },
  {
   "cell_type": "code",
   "execution_count": 13,
   "metadata": {},
   "outputs": [],
   "source": [
    "#Whenever writer sends a message to critic, it triggers nested chats \n",
    "critic.register_nested_chats(\n",
    "    review_chats,\n",
    "    trigger=writer,\n",
    ")"
   ]
  },
  {
   "cell_type": "code",
   "execution_count": 14,
   "metadata": {},
   "outputs": [
    {
     "name": "stdout",
     "output_type": "stream",
     "text": [
      "\u001b[33mCritic\u001b[0m (to Writer):\n",
      "\n",
      "\n",
      "        Write a concise but engaging blogpost about\n",
      "       DeepLearning.AI. Make sure the blogpost is\n",
      "       within 100 words.\n",
      "       \n",
      "\n",
      "--------------------------------------------------------------------------------\n",
      "\u001b[33mWriter\u001b[0m (to Critic):\n",
      "\n",
      "Title: Unleashing the Power of DeepLearning.AI\n",
      "\n",
      "Dive into the world of artificial intelligence with DeepLearning.AI - a leading platform revolutionizing the way we interact with technology. Offering cutting-edge courses and resources, DeepLearning.AI empowers enthusiasts and professionals to master the intricacies of deep learning. From computer vision to natural language processing, the platform equips learners with the tools to explore endless possibilities in AI. Join the thriving community of innovators, upskill in high-demand fields, and unleash your potential with DeepLearning.AI. Embark on a transformative learning journey today!\n",
      "\n",
      "--------------------------------------------------------------------------------\n",
      "\u001b[34m\n",
      "********************************************************************************\u001b[0m\n",
      "\u001b[34mStarting a new chat....\u001b[0m\n",
      "\u001b[34m\n",
      "********************************************************************************\u001b[0m\n",
      "\u001b[33mCritic\u001b[0m (to SEO Reviewer):\n",
      "\n",
      "Review the following content. \n",
      "            \n",
      "\n",
      " Title: Unleashing the Power of DeepLearning.AI\n",
      "\n",
      "Dive into the world of artificial intelligence with DeepLearning.AI - a leading platform revolutionizing the way we interact with technology. Offering cutting-edge courses and resources, DeepLearning.AI empowers enthusiasts and professionals to master the intricacies of deep learning. From computer vision to natural language processing, the platform equips learners with the tools to explore endless possibilities in AI. Join the thriving community of innovators, upskill in high-demand fields, and unleash your potential with DeepLearning.AI. Embark on a transformative learning journey today!\n",
      "\n",
      "--------------------------------------------------------------------------------\n",
      "\u001b[33mSEO Reviewer\u001b[0m (to Critic):\n",
      "\n",
      "As an SEO reviewer:\n",
      "\n",
      "- Incorporate relevant keywords such as \"Deep Learning,\" \"artificial intelligence courses,\" \"AI resources,\" etc., to improve search engine visibility.\n",
      "- Consider adding a meta description that summarizes the content and includes keywords to entice users to click through.\n",
      "- Include internal links to related content or courses on the DeepLearning.AI platform to improve website structure and encourage further exploration by users.\n",
      "\n",
      "--------------------------------------------------------------------------------\n",
      "\u001b[34m\n",
      "********************************************************************************\u001b[0m\n",
      "\u001b[34mStarting a new chat....\u001b[0m\n",
      "\u001b[34m\n",
      "********************************************************************************\u001b[0m\n",
      "\u001b[33mCritic\u001b[0m (to Legal Reviewer):\n",
      "\n",
      "Review the following content. \n",
      "            \n",
      "\n",
      " Title: Unleashing the Power of DeepLearning.AI\n",
      "\n",
      "Dive into the world of artificial intelligence with DeepLearning.AI - a leading platform revolutionizing the way we interact with technology. Offering cutting-edge courses and resources, DeepLearning.AI empowers enthusiasts and professionals to master the intricacies of deep learning. From computer vision to natural language processing, the platform equips learners with the tools to explore endless possibilities in AI. Join the thriving community of innovators, upskill in high-demand fields, and unleash your potential with DeepLearning.AI. Embark on a transformative learning journey today!\n",
      "Context: \n",
      "{'Reviewer': 'SEO Reviewer', 'Review': '- Incorporate relevant keywords such as \"Deep Learning,\" \"artificial intelligence courses,\" \"AI resources,\" etc., to improve search engine visibility.\\n- Consider adding a meta description that summarizes the content and includes keywords to entice users to click through.\\n- Include internal links to related content or courses on the DeepLearning.AI platform to improve website structure and encourage further exploration by users.'}\n",
      "\n",
      "--------------------------------------------------------------------------------\n",
      "\u001b[33mLegal Reviewer\u001b[0m (to Critic):\n",
      "\n",
      "**Legal Reviewer:** \n",
      "\n",
      "Overall, the content is engaging and informative, highlighting the benefits of DeepLearning.AI. However, to ensure legal compliance and avoid potential issues:\n",
      "\n",
      "- Verify that all claims made about the platform's offerings and benefits are factually accurate and substantiated.\n",
      "- Ensure that any use of trademarks, such as \"DeepLearning.AI,\" is in accordance with trademark law and does not mislead consumers.\n",
      "- Include a disclaimer regarding the results or outcomes that learners can expect from using the platform to manage expectations and avoid potential liability.\n",
      "\n",
      "--------------------------------------------------------------------------------\n",
      "\u001b[34m\n",
      "********************************************************************************\u001b[0m\n",
      "\u001b[34mStarting a new chat....\u001b[0m\n",
      "\u001b[34m\n",
      "********************************************************************************\u001b[0m\n",
      "\u001b[33mCritic\u001b[0m (to Ethics Reviewer):\n",
      "\n",
      "Review the following content. \n",
      "            \n",
      "\n",
      " Title: Unleashing the Power of DeepLearning.AI\n",
      "\n",
      "Dive into the world of artificial intelligence with DeepLearning.AI - a leading platform revolutionizing the way we interact with technology. Offering cutting-edge courses and resources, DeepLearning.AI empowers enthusiasts and professionals to master the intricacies of deep learning. From computer vision to natural language processing, the platform equips learners with the tools to explore endless possibilities in AI. Join the thriving community of innovators, upskill in high-demand fields, and unleash your potential with DeepLearning.AI. Embark on a transformative learning journey today!\n",
      "Context: \n",
      "{'Reviewer': 'SEO Reviewer', 'Review': '- Incorporate relevant keywords such as \"Deep Learning,\" \"artificial intelligence courses,\" \"AI resources,\" etc., to improve search engine visibility.\\n- Consider adding a meta description that summarizes the content and includes keywords to entice users to click through.\\n- Include internal links to related content or courses on the DeepLearning.AI platform to improve website structure and encourage further exploration by users.'}\n",
      "{'Reviewer': 'SEO Reviewer', 'Review': '- Incorporate relevant keywords such as \"Deep Learning,\" \"artificial intelligence courses,\" \"AI resources,\" etc., to improve search engine visibility.\\n- Consider adding a meta description that summarizes the content and includes keywords to entice users to click through.\\n- Include internal links to related content or courses on the DeepLearning.AI platform to improve website structure and encourage further exploration by users.'}\n",
      "\n",
      "--------------------------------------------------------------------------------\n",
      "\u001b[33mEthics Reviewer\u001b[0m (to Critic):\n",
      "\n",
      "As an Ethics Reviewer:\n",
      "\n",
      "- Ensure that the claims made about DeepLearning.AI's courses and resources are accurate and supported by evidence to avoid misleading potential learners.\n",
      "- Avoid overstating the effectiveness or outcomes of using DeepLearning.AI to manage expectations and prevent false promises.\n",
      "- Clearly disclose any affiliations or sponsorships with DeepLearning.AI to maintain transparency and establish trust with the audience.\n",
      "\n",
      "--------------------------------------------------------------------------------\n",
      "\u001b[34m\n",
      "********************************************************************************\u001b[0m\n",
      "\u001b[34mStarting a new chat....\u001b[0m\n",
      "\u001b[34m\n",
      "********************************************************************************\u001b[0m\n",
      "\u001b[33mCritic\u001b[0m (to Meta Reviewer):\n",
      "\n",
      "Aggregrate feedback from all reviewers and give final suggestions on the writing.\n",
      "Context: \n",
      "{'Reviewer': 'SEO Reviewer', 'Review': '- Incorporate relevant keywords such as \"Deep Learning,\" \"artificial intelligence courses,\" \"AI resources,\" etc., to improve search engine visibility.\\n- Consider adding a meta description that summarizes the content and includes keywords to entice users to click through.\\n- Include internal links to related content or courses on the DeepLearning.AI platform to improve website structure and encourage further exploration by users.'}\n",
      "{'Reviewer': 'SEO Reviewer', 'Review': '- Incorporate relevant keywords such as \"Deep Learning,\" \"artificial intelligence courses,\" \"AI resources,\" etc., to improve search engine visibility.\\n- Consider adding a meta description that summarizes the content and includes keywords to entice users to click through.\\n- Include internal links to related content or courses on the DeepLearning.AI platform to improve website structure and encourage further exploration by users.'}\n",
      "{'reviewer': 'SEO Reviewer', 'review': '- Incorporate relevant keywords such as \"Deep Learning,\" \"artificial intelligence courses,\" \"AI resources,\" etc., to improve search engine visibility.\\n- Consider adding a meta description that summarizes the content and includes keywords to entice users to click through.\\n- Include internal links to related content or courses on the DeepLearning.AI platform to improve website structure and encourage further exploration by users.'}\n",
      "\n",
      "--------------------------------------------------------------------------------\n",
      "\u001b[33mMeta Reviewer\u001b[0m (to Critic):\n",
      "\n",
      "Aggregated feedback from all reviewers:\n",
      "\n",
      "- Incorporate relevant keywords such as \"Deep Learning,\" \"artificial intelligence courses,\" \"AI resources,\" etc., to improve search engine visibility.\n",
      "- Consider adding a meta description that summarizes the content and includes keywords to entice users to click through.\n",
      "- Include internal links to related content or courses on the DeepLearning.AI platform to improve website structure and encourage further exploration by users.\n",
      "\n",
      "Final suggestions on the writing:\n",
      "It is clear that incorporating relevant keywords and adding a meta description are essential for improving search engine visibility and user engagement. Additionally, internal linking to related content can enhance website structure and user exploration. Overall, following these SEO recommendations can help optimize the content for better online visibility and user experience.\n",
      "\n",
      "--------------------------------------------------------------------------------\n",
      "\u001b[33mCritic\u001b[0m (to Writer):\n",
      "\n",
      "Aggregated feedback from all reviewers:\n",
      "\n",
      "- Incorporate relevant keywords such as \"Deep Learning,\" \"artificial intelligence courses,\" \"AI resources,\" etc., to improve search engine visibility.\n",
      "- Consider adding a meta description that summarizes the content and includes keywords to entice users to click through.\n",
      "- Include internal links to related content or courses on the DeepLearning.AI platform to improve website structure and encourage further exploration by users.\n",
      "\n",
      "Final suggestions on the writing:\n",
      "It is clear that incorporating relevant keywords and adding a meta description are essential for improving search engine visibility and user engagement. Additionally, internal linking to related content can enhance website structure and user exploration. Overall, following these SEO recommendations can help optimize the content for better online visibility and user experience.\n",
      "\n",
      "--------------------------------------------------------------------------------\n",
      "\u001b[33mWriter\u001b[0m (to Critic):\n",
      "\n",
      "Title: Unleashing the Power of DeepLearning.AI: Exploring Cutting-Edge AI Courses\n",
      "\n",
      "Delve into the realm of artificial intelligence with DeepLearning.AI, a premier platform offering a myriad of deep learning courses and AI resources. From computer vision to natural language processing, enthusiasts and professionals can master high-demand skills. Join a vibrant community of innovators and unlock the potential of AI. Discover endless possibilities with DeepLearning.AI's transformative learning approach today!\n",
      "\n",
      "Meta Description: Explore top-notch artificial intelligence courses on DeepLearning.AI and embark on a transformative journey into the world of deep learning. Join a thriving community of innovators and professionals, and unlock the full potential of AI. \n",
      "\n",
      "Remember, incorporating keywords like \"deep learning\" and \"artificial intelligence courses\" enhances search visibility while adding internal links to related content promotes further exploration. Cheers to expanding your AI horizons!\n",
      "\n",
      "--------------------------------------------------------------------------------\n"
     ]
    }
   ],
   "source": [
    "res = critic.initiate_chat(\n",
    "    recipient=writer,\n",
    "    message=task,\n",
    "    max_turns=2,\n",
    "    summary_method=\"last_msg\"\n",
    ")"
   ]
  },
  {
   "cell_type": "code",
   "execution_count": 15,
   "metadata": {},
   "outputs": [
    {
     "name": "stdout",
     "output_type": "stream",
     "text": [
      "Title: Unleashing the Power of DeepLearning.AI: Exploring Cutting-Edge AI Courses\n",
      "\n",
      "Delve into the realm of artificial intelligence with DeepLearning.AI, a premier platform offering a myriad of deep learning courses and AI resources. From computer vision to natural language processing, enthusiasts and professionals can master high-demand skills. Join a vibrant community of innovators and unlock the potential of AI. Discover endless possibilities with DeepLearning.AI's transformative learning approach today!\n",
      "\n",
      "Meta Description: Explore top-notch artificial intelligence courses on DeepLearning.AI and embark on a transformative journey into the world of deep learning. Join a thriving community of innovators and professionals, and unlock the full potential of AI. \n",
      "\n",
      "Remember, incorporating keywords like \"deep learning\" and \"artificial intelligence courses\" enhances search visibility while adding internal links to related content promotes further exploration. Cheers to expanding your AI horizons!\n"
     ]
    }
   ],
   "source": [
    "print(res.summary)"
   ]
  },
  {
   "cell_type": "code",
   "execution_count": null,
   "metadata": {},
   "outputs": [],
   "source": []
  }
 ],
 "metadata": {
  "kernelspec": {
   "display_name": "Python 3",
   "language": "python",
   "name": "python3"
  },
  "language_info": {
   "codemirror_mode": {
    "name": "ipython",
    "version": 3
   },
   "file_extension": ".py",
   "mimetype": "text/x-python",
   "name": "python",
   "nbconvert_exporter": "python",
   "pygments_lexer": "ipython3",
   "version": "3.12.4"
  }
 },
 "nbformat": 4,
 "nbformat_minor": 2
}
